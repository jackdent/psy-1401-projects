{
 "cells": [
  {
   "cell_type": "code",
   "execution_count": 1,
   "metadata": {
    "collapsed": true
   },
   "outputs": [],
   "source": [
    "%matplotlib inline\n",
    "\n",
    "import matplotlib.pyplot as plt\n",
    "import random\n",
    "import math\n",
    "import numpy as np"
   ]
  },
  {
   "cell_type": "code",
   "execution_count": 2,
   "metadata": {
    "collapsed": true
   },
   "outputs": [],
   "source": [
    "# parameters for group effect\n",
    "g1 = 2\n",
    "g2 = 2\n",
    "g3 = 0.5\n",
    "\n",
    "# model parameters\n",
    "sigma = 0.5\n",
    "beta = 1"
   ]
  },
  {
   "cell_type": "code",
   "execution_count": 3,
   "metadata": {
    "collapsed": false
   },
   "outputs": [
    {
     "name": "stdout",
     "output_type": "stream",
     "text": [
      "[23, 28, 32, 68, 49]\n",
      "[[6.0, 19.0], [7.0, 23.0], [16.0, 18.0], [49.0, 21.0], [40.0, 11.0]]\n"
     ]
    }
   ],
   "source": [
    "'''\n",
    "To account for observations on the number of people choosing each choice,\n",
    "we introduce an observations array that we can dynamically change during \n",
    "simulations to model the fraction of people at each choice. We then add\n",
    "an additional factor when obtaining decision values from probability \n",
    "distributions to account for a group effect in exploration vs exploitation.\n",
    "The current function to obtain the group weight factor from the group \n",
    "fraction t is of the form at^b + c. Moving forward, we will look at more\n",
    "complex functions, tune parameters, and consider other ways to represent\n",
    "observed choices of others in the exploration exploitation process.\n",
    "'''\n",
    "\n",
    "def decision_vals(t, weight):\n",
    "    x = t[0]\n",
    "    expected = x[0]/(x[0] + x[1])\n",
    "    uncertainty_bonus = sigma * (x[0] * x[1])/((x[0] + x[1])**2 * (x[0] + x[1] + 1))\n",
    "    social_bonus = g1*t[1]**g2 + g3\n",
    "    return (expected + uncertainty_bonus + social_bonus * weight)\n",
    "  \n",
    "def social_weight(entropy, max_entropy, population, max_population):\n",
    "    '''\n",
    "    use entropy as a measure of personal accuracy: social bonus decreases with entropy \n",
    "    use number of other ppl (rel to recent #) as measure of societal accuracy?\n",
    "    use number of times you agreed with most common choice as comparison of your utility with the population's?\n",
    "    '''\n",
    "    return (entropy/max_entropy) * (population/max_population) \n",
    "    \n",
    "def softmax(x):\n",
    "    e_x = np.exp(x - np.max(x))\n",
    "    return e_x / e_x.sum()\n",
    "\n",
    "def prob_index(probs):\n",
    "    r = random.random()\n",
    "    index = 0\n",
    "    while(r >= 0 and index < len(probs)):\n",
    "        r -= probs[index]\n",
    "        index += 1\n",
    "    return index - 1\n",
    "\n",
    "def get_entropy(prob_arr):    \n",
    "    arr = list(map((lambda x : x * math.log(x)), prob_arr))\n",
    "    return -1 * sum(arr)\n",
    "\n",
    "# arbitrary reward probabilities\n",
    "rewards = [0.1, 0.3, 0.5, 0.7, 0.9]\n",
    "# observed number of people currently choosing each option\n",
    "observations = [2.0, 3.0, 1.0, 4.0, 0.0]\n",
    "\n",
    "# initialize distribution params to all be (alpha, beta) = (1, 1)\n",
    "dist_params = [[1.0, 1.0], [1.0, 1.0], [1.0, 1.0], [1.0, 1.0], [1.0, 1.0]]\n",
    "\n",
    "counts = [0, 0, 0, 0, 0]\n",
    "entropy_arr = []\n",
    "population_arr = []\n",
    "\n",
    "for i in range(200):\n",
    "    entropy = get_entropy(map(lambda x: x[0]/(x[0] + x[1]), dist_params))\n",
    "    entropy_arr.append(entropy)\n",
    "    \n",
    "    num_obs = sum(observations)\n",
    "    population_arr.append(num_obs)\n",
    "    \n",
    "    obs_percentage = map(lambda x: x/num_obs, observations)\n",
    "    weight = social_weight(entropy, max(entropy_arr), num_obs, max(population_arr[-7:]))\n",
    "    value_arr = [decision_vals(t, weight) for t in zip(dist_params, obs_percentage)]    #list(map(decision_vals, zip(dist_params, observations)))\n",
    "    prob_arr = softmax(value_arr)\n",
    "    chosen_index = prob_index(prob_arr)\n",
    "    counts[chosen_index] += 1\n",
    "    \n",
    "    # give reward based on chosen option's probability, update values based on reward\n",
    "    reward = random.random()\n",
    "    if reward < rewards[chosen_index]:\n",
    "        dist_params[chosen_index][0] += 1\n",
    "    else:\n",
    "        dist_params[chosen_index][1] += 1\n",
    "\n",
    "print counts\n",
    "print dist_params"
   ]
  },
  {
   "cell_type": "code",
   "execution_count": 4,
   "metadata": {
    "collapsed": false
   },
   "outputs": [
    {
     "data": {
      "image/png": "[encoded data removed]",
      "text/plain": [
       "<matplotlib.figure.Figure at 0x105dbd0d0>"
      ]
     },
     "metadata": {},
     "output_type": "display_data"
    }
   ],
   "source": [
    "plt.plot(entropy_arr)\n",
    "plt.ylabel('entropy')\n",
    "plt.show()"
   ]
  },
  {
   "cell_type": "code",
   "execution_count": null,
   "metadata": {
    "collapsed": true
   },
   "outputs": [],
   "source": []
  }
 ],
 "metadata": {
  "anaconda-cloud": {},
  "kernelspec": {
   "display_name": "Python 2",
   "language": "python",
   "name": "python2"
  },
  "language_info": {
   "codemirror_mode": {
    "name": "ipython",
    "version": 2
   },
   "file_extension": ".py",
   "mimetype": "text/x-python",
   "name": "python",
   "nbconvert_exporter": "python",
   "pygments_lexer": "ipython2",
   "version": "2.7.8"
  }
 },
 "nbformat": 4,
 "nbformat_minor": 0
}
