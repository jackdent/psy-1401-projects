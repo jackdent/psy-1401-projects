{
 "cells": [
  {
   "cell_type": "code",
   "execution_count": 1,
   "metadata": {
    "collapsed": true
   },
   "outputs": [],
   "source": [
    "%matplotlib inline\n",
    "\n",
    "import matplotlib.pyplot as plt\n",
    "import random\n",
    "import math\n",
    "import numpy as np"
   ]
  },
  {
   "cell_type": "code",
   "execution_count": 2,
   "metadata": {
    "collapsed": true
   },
   "outputs": [],
   "source": [
    "# parameters for group effect\n",
    "g1 = 2\n",
    "g2 = 2\n",
    "g3 = 0.5\n",
    "\n",
    "# model parameters\n",
    "sigma = 0.5\n",
    "beta = 1"
   ]
  },
  {
   "cell_type": "code",
   "execution_count": null,
   "metadata": {
    "collapsed": false
   },
   "outputs": [],
   "source": [
    "def mle(observations):\n",
    "    # basically want to maximize the product of likelihood and prior\n",
    "    # let's just do likelihood first lmao\n",
    "    max_x = [0, 0, 0, 0, 0] # only estimating the means i guess...\n",
    "    max_likelihood = 0\n",
    "    ceiling = 10\n",
    "    for i1 in range(0, ceiling):\n",
    "        for i2 in range(0, ceiling):\n",
    "            for i3 in range(0, ceiling):\n",
    "                for i4 in range(0, ceiling):\n",
    "                    for i5 in range(0, ceiling):\n",
    "                        params = [i1, i2, i3, i4, i5]\n",
    "                        \n",
    "                        current_val = likelihood_val(params, observations)\n",
    "                        if current_val > max_likelihood:\n",
    "                            max_x = params\n",
    "                            max_likelihood = current_val\n",
    "    return max_x\n",
    "\n",
    "def likelihood_val(params, observations):\n",
    "    product = 1.0\n",
    "    \n",
    "    # get softmax denom\n",
    "    sm_sum = 0.0\n",
    "    for i in range(0, len(params)):\n",
    "        sm_sum += np.exp(params[i])\n",
    "        \n",
    "    for i in range(0, len(params)):\n",
    "        likelihood_softmax = np.exp(params[i])\n",
    "        product *= (likelihood_softmax/sm_sum)**(observations[i])\n",
    "    \n",
    "    return product\n",
    "        \n",
    "def decision_vals(t, weight):\n",
    "    x = t[0]\n",
    "    expected = x[0]\n",
    "    return (expected)\n",
    "\n",
    "def softmax(x):\n",
    "    prob_t = [0,0,0,0,0]      \n",
    "    for a in range(0, 5):\n",
    "        prob_t[a] = np.exp(x[a]/7)\n",
    "    prob_t = np.true_divide(prob_t,sum(prob_t))\n",
    "    return prob_t\n",
    "\n",
    "def prob_index(probs):\n",
    "    r = random.random()\n",
    "    index = 0\n",
    "    while(r >= 0 and index < len(probs)):\n",
    "        r -= probs[index]\n",
    "        index += 1\n",
    "    return index - 1\n",
    "\n",
    "def generate_sample(index, underlying):\n",
    "    dist = underlying[index]\n",
    "    reward = np.random.normal(dist[0], dist[1])\n",
    "    return reward\n",
    "\n",
    "def update_dist(index, hyperparams, reward, underlying):\n",
    "    dist = hyperparams[index]\n",
    "    real = underlying[index]\n",
    "    new_mean = (dist[0]/dist[1] + reward/real[1])/(1/dist[1] + 1/real[1])\n",
    "    new_var = (1/dist[1] + 1/real[1])**(-1)\n",
    "    dist[0] = new_mean\n",
    "    dist[1] = new_var\n",
    "    \n",
    "def weigh_social(t):\n",
    "    ind_val = t[0]\n",
    "    soc_val = t[1]\n",
    "    w = t[2]\n",
    "    return w * ind_val + (1 - w) * soc_val\n",
    "    \n",
    "# underlying normal distributions\n",
    "underlying = [(3.0, 2.0), (6.0, 1.0), (5.0, 1.0), (8.0, 3.0), (7.0, 1.0)]\n",
    "# observed number of people currently choosing each option\n",
    "observations = [2.0, 2.0, 2.0, 2.0, 2.0]\n",
    "# initialize distribution params to all be (mean, variance) = (10, 1) - assume all variance 1 for now\n",
    "hyperparams = [[10.0, 1.0], [10.0, 1.0], [10.0, 1.0], [10.0, 1.0], [10.0, 1.0]]\n",
    "\n",
    "counts = [0, 0, 0, 0, 0]\n",
    "population_arr = []\n",
    "\n",
    "options = [[0], [0], [0], [0], [0]]\n",
    "\n",
    "# indifference parameter\n",
    "w = [0.5, 0.5, 0.5, 0.5, 0.5] \n",
    "own_errors = [[], [], [], [], []]\n",
    "group_errors = [[], [], [], [], []]\n",
    "for i in range(160):\n",
    "    num_obs = sum(observations)\n",
    "    population_arr.append(num_obs)\n",
    "    \n",
    "    obs_percentage = map(lambda x: x/num_obs, observations)\n",
    "    value_arr = [decision_vals(t, 0) for t in zip(hyperparams, obs_percentage)]  \n",
    "    group_arr = mle(observations)\n",
    "    \n",
    "    # weigh here before you go - first \n",
    "    weighted_array = [weigh_social(t) for t in zip(value_arr, group_arr, w)]  \n",
    "\n",
    "    \n",
    "    prob_arr = softmax(weighted_array)\n",
    "    #print value_arr\n",
    "    #print prob_arr\n",
    "    chosen_index = prob_index(prob_arr)\n",
    "    counts[chosen_index] += 1\n",
    "    for i in range(0, 5):\n",
    "        if i == chosen_index:\n",
    "            options[i].append(options[i][-1] + 1)\n",
    "        else: \n",
    "            options[i].append(options[i][-1])\n",
    "    \n",
    "    reward = generate_sample(chosen_index, underlying)\n",
    "    update_dist(chosen_index, hyperparams, reward, underlying)\n",
    "    \n",
    "    own_error = abs(value_arr[chosen_index] - reward)\n",
    "    group_error = abs(group_arr[chosen_index] - reward)\n",
    "    \n",
    "    own_errors[chosen_index].append(own_error)\n",
    "    group_errors[chosen_index].append(group_error)\n",
    "    w[chosen_index] = sum(own_errors[chosen_index][-5:])/5.0 / (sum(own_errors[chosen_index][-5:]) + sum(group_errors[chosen_index][-5:]))\n",
    "\n",
    "print counts\n",
    "print hyperparams\n"
   ]
  },
  {
   "cell_type": "code",
   "execution_count": 9,
   "metadata": {
    "collapsed": false
   },
   "outputs": [],
   "source": [
    "shit = mle([10.0, 3.0, 2.0, 6.0, 8.0])"
   ]
  },
  {
   "cell_type": "code",
   "execution_count": 10,
   "metadata": {
    "collapsed": false
   },
   "outputs": [
    {
     "name": "stdout",
     "output_type": "stream",
     "text": [
      "[1, 0, 0, 1, 1]\n"
     ]
    }
   ],
   "source": [
    "print shit"
   ]
  },
  {
   "cell_type": "code",
   "execution_count": 6,
   "metadata": {
    "collapsed": false
   },
   "outputs": [
    {
     "data": {
      "text/plain": [
       "<matplotlib.legend.Legend at 0x10a6c85d0>"
      ]
     },
     "execution_count": 6,
     "metadata": {},
     "output_type": "execute_result"
    },
    {
     "data": {
      "image/png": "[encoded data removed]",
      "text/plain": [
       "<matplotlib.figure.Figure at 0x10a65ba10>"
      ]
     },
     "metadata": {},
     "output_type": "display_data"
    }
   ],
   "source": [
    "from matplotlib.font_manager import FontProperties\n",
    "\n",
    "fontP = FontProperties()\n",
    "fontP.set_size('small')\n",
    "\n",
    "line_1, = plt.plot(options[0], label='3')\n",
    "line_2, = plt.plot(options[1], label='6')\n",
    "line_3, = plt.plot(options[2], label='5')\n",
    "line_4, = plt.plot(options[3], label='8')\n",
    "line_5, = plt.plot(options[4], label='7')\n",
    "\n",
    "plt.legend(loc='upper center', bbox_to_anchor=(0.5, 1.05), ncol=3,  handles=[line_1, line_2, line_3, line_4, line_5], prop = fontP)\n"
   ]
  }
 ],
 "metadata": {
  "anaconda-cloud": {},
  "kernelspec": {
   "display_name": "Python 2",
   "language": "python",
   "name": "python2"
  },
  "language_info": {
   "codemirror_mode": {
    "name": "ipython",
    "version": 2
   },
   "file_extension": ".py",
   "mimetype": "text/x-python",
   "name": "python",
   "nbconvert_exporter": "python",
   "pygments_lexer": "ipython2",
   "version": "2.7.8"
  }
 },
 "nbformat": 4,
 "nbformat_minor": 0
}
