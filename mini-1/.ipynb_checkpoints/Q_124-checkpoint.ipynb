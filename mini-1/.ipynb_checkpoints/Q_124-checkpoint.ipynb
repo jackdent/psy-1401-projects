{
 "cells": [
  {
   "cell_type": "markdown",
   "metadata": {},
   "source": [
    "# Normalization Function\n",
    "#### The normalization function specifies how a normalized response of a neuron depends on the inputs in the normalization pool\n",
    "\n",
    "$\\gamma = $ overall responsiveness\n",
    "\n",
    "$\\sigma = $ prevents division by $0$, determines how responses saturate with increasing driving input\n",
    "\n",
    "$n = $ amplifies individual inputs"
   ]
  },
  {
   "cell_type": "code",
   "execution_count": 10,
   "metadata": {
    "collapsed": false,
    "slideshow": {
     "slide_type": "slide"
    }
   },
   "outputs": [
    {
     "name": "stdout",
     "output_type": "stream",
     "text": [
      "0.050955414012738856\n"
     ]
    }
   ],
   "source": [
    "gamma = 1.0\n",
    "sigma = 1.0\n",
    "n = 1.0\n",
    "\n",
    "D_list = [20, 4, 16, 47, 24, 41, 17, 25, 30, 58, 31]\n",
    "\n",
    "def normalize(j, lst, n=n):\n",
    "    num = lst[j]\n",
    "    denom = sigma**n + sum(map(lambda x: x**n, lst))\n",
    "    return gamma * num / denom\n",
    "\n",
    "print(D_list)\n",
    "print(normalize(2, D_list))"
   ]
  },
  {
   "cell_type": "code",
   "execution_count": 4,
   "metadata": {
    "collapsed": false,
    "slideshow": {
     "slide_type": "slide"
    }
   },
   "outputs": [
    {
     "name": "stdout",
     "output_type": "stream",
     "text": [
      "Before\n",
      "0.021739130434782608\n",
      "\n",
      "After\n",
      "0.9569377990430622\n",
      "\n",
      "Changing n\n",
      "0.999999999879175\n"
     ]
    }
   ],
   "source": [
    "gamma = 1.0\n",
    "sigma = 1.0\n",
    "n = 1.0\n",
    "\n",
    "D_before = [1, 2, 3, 4, 5, 6, 7, 8, 9]\n",
    "D_after = [1000, 2, 3, 4, 5, 6, 7, 8, 9]\n",
    "\n",
    "# j is index\n",
    "def normalize(j, lst, n=n):\n",
    "    num = lst[j]**n\n",
    "    denom = sigma**n + sum(map(lambda x: x**n, lst))\n",
    "    return gamma * num / denom\n",
    "\n",
    "print(\"Before\")\n",
    "print(normalize(0, D_before))\n",
    "\n",
    "print(\"\\nAfter\")\n",
    "print(normalize(0, D_after))\n",
    "\n",
    "print(\"\\nChanging n\")\n",
    "print(normalize(0, D_after, 5))"
   ]
  }
 ],
 "metadata": {
  "celltoolbar": "Slideshow",
  "kernelspec": {
   "display_name": "Python 3",
   "language": "python",
   "name": "python3"
  },
  "language_info": {
   "codemirror_mode": {
    "name": "ipython",
    "version": 3
   },
   "file_extension": ".py",
   "mimetype": "text/x-python",
   "name": "python",
   "nbconvert_exporter": "python",
   "pygments_lexer": "ipython3",
   "version": "3.4.1"
  }
 },
 "nbformat": 4,
 "nbformat_minor": 1
}
