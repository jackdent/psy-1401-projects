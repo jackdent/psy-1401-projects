{
 "cells": [
  {
   "cell_type": "markdown",
   "metadata": {},
   "source": [
    "# Normalization Function\n",
    "#### The normalization function specifies how a normalized response of a neuron depends on the inputs in the normalization pool\n",
    "\n",
    "$\\gamma = $ overall responsiveness\n",
    "\n",
    "$\\sigma = $ prevents division by $0$, determines how responses saturate with increasing driving input\n",
    "\n",
    "$n = $ amplifies individual inputs"
   ]
  },
  {
   "cell_type": "code",
   "execution_count": 10,
   "metadata": {
    "collapsed": false,
    "slideshow": {
     "slide_type": "slide"
    }
   },
   "outputs": [
    {
     "name": "stdout",
     "output_type": "stream",
     "text": [
      "0.050955414012738856\n"
     ]
    }
   ],
   "source": [
    "gamma = 1\n",
    "sigma = 1\n",
    "n = 1\n",
    "\n",
    "D_list = [20, 4, 16, 47, 24, 41, 17, 25, 30, 58, 31]\n",
    "\n",
    "def normalize(j, lst):\n",
    "    num = lst[j]\n",
    "    denom = sigma**n + sum(map(lambda x: x**n, lst))\n",
    "    return gamma * num / denom\n",
    "\n",
    "print(normalize(2, D_list))"
   ]
  },
  {
   "cell_type": "markdown",
   "metadata": {},
   "source": [
    "# Winner-takes-all Competition\n",
    "\n",
    "Normalization provides winner-take-all competition because in the presence of multiple stimuli, the constant in the denominator is raised, which reduces the sensitivity of the neurons to the point tha the weaker stimuli are unable to drive them."
   ]
  },
  {
   "cell_type": "code",
   "execution_count": 12,
   "metadata": {
    "collapsed": false,
    "slideshow": {
     "slide_type": "slide"
    }
   },
   "outputs": [
    {
     "name": "stdout",
     "output_type": "stream",
     "text": [
      "Before\n",
      "0.021739130434782608\n",
      "After\n",
      "0.9569377990430622\n",
      "Changing n\n",
      "0.999999999879175\n"
     ]
    }
   ],
   "source": [
    "\n",
    "\n",
    "gamma = 1\n",
    "sigma = 1\n",
    "n = 1\n",
    "\n",
    "D_before = [1, 2, 3, 4, 5, 6, 7, 8, 9]\n",
    "D_after = [1000, 2, 3, 4, 5, 6, 7, 8, 9]\n",
    "\n",
    "def normalize(j, lst, n=n):\n",
    "    num = lst[j]**n\n",
    "    denom = sigma**n + sum(map(lambda x: x**n, lst))\n",
    "    return gamma * num / denom\n",
    "\n",
    "print(\"Before\")\n",
    "print(normalize(0, D_before))\n",
    "\n",
    "print(\"After\")\n",
    "print(normalize(0, D_after))\n",
    "\n",
    "print(\"Changing n\")\n",
    "print(normalize(0, D_after, 5))"
   ]
  },
  {
   "cell_type": "markdown",
   "metadata": {},
   "source": [
    "# Empirical Evidence for Normalization\n",
    "\n",
    "### Normalization in the retina\n",
    "\n",
    "\n",
    "### Normalization in the primary visual cortex"
   ]
  },
  {
   "cell_type": "code",
   "execution_count": null,
   "metadata": {
    "collapsed": true
   },
   "outputs": [],
   "source": []
  }
 ],
 "metadata": {
  "celltoolbar": "Slideshow",
  "kernelspec": {
   "display_name": "Python 3",
   "language": "python",
   "name": "python3"
  },
  "language_info": {
   "codemirror_mode": {
    "name": "ipython",
    "version": 3
   },
   "file_extension": ".py",
   "mimetype": "text/x-python",
   "name": "python",
   "nbconvert_exporter": "python",
   "pygments_lexer": "ipython3",
   "version": "3.4.1"
  }
 },
 "nbformat": 4,
 "nbformat_minor": 1
}
