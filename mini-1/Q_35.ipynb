{
 "cells": [
  {
   "cell_type": "markdown",
   "metadata": {},
   "source": [
    "# Adaptation Normalization Function\n",
    "#### The normalization function specifies how a normalized response of a neuron depends on the inputs in the normalization pool\n",
    "\n",
    "$\\gamma = $ overall responsiveness\n",
    "\n",
    "$\\sigma = $ prevents division by $0$, determines how responses saturate with increasing driving input\n",
    "\n",
    "$n = $ amplifies individual inputs"
   ]
  },
  {
   "cell_type": "code",
   "execution_count": null,
   "metadata": {
    "collapsed": true
   },
   "outputs": [],
   "source": [
    "%matplotlib inline"
   ]
  },
  {
   "cell_type": "code",
   "execution_count": null,
   "metadata": {
    "collapsed": false,
    "slideshow": {
     "slide_type": "slide"
    }
   },
   "outputs": [],
   "source": [
    "import numpy as np\n",
    "\n",
    "gamma = 2.0\n",
    "sigma = 3.0\n",
    "n = 2.0 # avg exponent n is btwn 1.0 and 3.5 generally, avg 2 (REFS 48-50)\n",
    "m = 1\n",
    "p = 3\n",
    "beta = 2.0\n",
    "\n",
    "# j is index \n",
    "def normalize(j, lst):\n",
    "    w_list = np.ones((len(lst), len(lst)))\n",
    "    alpha_list = np.ones((len(lst), len(lst)))\n",
    "    \n",
    "    num = lst.dot(w_list[j]) + beta\n",
    "    denom = sigma**n + np.power(alpha_list[j].dot(np.power(lst, m)), p)\n",
    "    return gamma * float(num) / denom\n",
    "\n",
    "def normalize_lst(lst):\n",
    "    return np.array([normalize(i, lst) for i in range(len(lst))])"
   ]
  },
  {
   "cell_type": "code",
   "execution_count": null,
   "metadata": {
    "collapsed": false
   },
   "outputs": [],
   "source": [
    "I_list = np.array([20, 4, 16])\n",
    "I1_list = np.apply_along_axis(lambda x: x*2, 0, I_list)\n",
    "I2_list = np.apply_along_axis(lambda x: x*4, 0, I_list)\n",
    "\n",
    "print(normalize_lst(I_list))\n",
    "print(normalize_lst(I1_list))\n",
    "print(normalize_lst(I2_list))"
   ]
  },
  {
   "cell_type": "code",
   "execution_count": null,
   "metadata": {
    "collapsed": false
   },
   "outputs": [],
   "source": [
    "from skimage import data, exposure\n",
    "from skimage.future import graph\n",
    "from skimage.transform import rescale\n",
    "from matplotlib import pyplot as plt\n",
    "\n",
    "coffee = rescale(data.coffee(), .01)\n",
    "\n",
    "bright_coffee = exposure.adjust_gamma(coffee, .5)\n",
    "fig, ax = plt.subplots(nrows=2, sharex=True, sharey=True, figsize=(6, 8))\n",
    "\n",
    "ax[0].imshow(coffee)\n",
    "ax[1].imshow(bright_coffee)\n",
    "\n",
    "plt.show()"
   ]
  },
  {
   "cell_type": "code",
   "execution_count": null,
   "metadata": {
    "collapsed": false
   },
   "outputs": [],
   "source": [
    "print(normalize_lst(coffee.flatten()))\n",
    "print(normalize_lst(bright_coffee.flatten()))"
   ]
  }
 ],
 "metadata": {
  "celltoolbar": "Slideshow",
  "kernelspec": {
   "display_name": "Python [Root]",
   "language": "python",
   "name": "Python [Root]"
  },
  "language_info": {
   "codemirror_mode": {
    "name": "ipython",
    "version": 2
   },
   "file_extension": ".py",
   "mimetype": "text/x-python",
   "name": "python",
   "nbconvert_exporter": "python",
   "pygments_lexer": "ipython2",
   "version": "2.7.12"
  }
 },
 "nbformat": 4,
 "nbformat_minor": 1
}
